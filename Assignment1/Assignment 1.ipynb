In [85]:
#EE5609:Matrix Theory
#Assignment 1 ( To find a unit vector that makes an angle of 90 degree,135 degree,45 degree with positive X,Y and Z axis respectively.)
#points and Vectors(Prob.18)
#Code by saurabh Joshi
#Roll no: AI20MTECH13002

import numpy as np
import math

#Given angles wrt axes:90degrees,135degrees,45degrees

print("values of cosines of angles wrt axes is given as")
m=np.cos(np.array((90., 135., 45.)) * np.pi / 180.)
print(m)
print("Therefore Magnitude of the vector:")
print(np.linalg.norm(m))

# Hence unit vector is m is 
m = m/(np.linalg.norm(m))
print("The value of unit vector m is", m)
values of cosines of angles wrt axes is given as
[ 6.12323400e-17 -7.07106781e-01  7.07106781e-01]
Therefore Magnitude of the vector:
1.0
The value of unit vector m is [ 6.12323400e-17 -7.07106781e-01  7.07106781e-01]
In [ ]:

In [ ]:

In [ ]:

In [ ]:
